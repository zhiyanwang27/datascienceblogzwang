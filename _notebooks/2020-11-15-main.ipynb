{
 "cells": [
  {
   "cell_type": "markdown",
   "metadata": {},
   "source": [
    "# Introduction to Hypothesis Testing\n",
    "> A brief introduction to hypothesis testing with example\n",
    "\n",
    "- toc: true \n",
    "- badges: true\n",
    "- comments: true\n",
    "- categories: [jupyter]\n",
    "- image: images/chart-preview.png"
   ]
  },
  {
   "cell_type": "markdown",
   "metadata": {},
   "source": [
    "## Concepts\n",
    "> What is hypothesis testing and why do we need it\n",
    "\n",
    "Hypothesis testing is an important concept in statistics. It is a framework in which we evaluate whether a given set of observations are consistent with a specific hypothesis. The hypothesis, in most cases, is about the underlying distribution from which the observed data is drawn from. Hypothesis testing usually make predictions about the following scenarios: whether the observations come from a certain distribution with a mean and standard deviation, whether two groups of observations come from the same underlying distributions etc.\n",
    "\n",
    "Why do we need hypothesis testing ? In most real-life datasets that we observed, we cannot have access to the underlying distribution of the data we obtained from. However, we often make statements (hypothesis) with regard to the underlying properties within the dataset. Although the processes of making hypotheses sound distant and abstract, it's actually quite common for us to make a hypothesis in real life about a set of observed data. For example, imagine if we want to evaluate the effect of a new medicine treating blood pressure. We observe that on average the group of patients who took the medicine have a blood pressure of 138 while the group of patients who did not take the medicine have a blood pressure of 144. From a naive point of view, we would say the medicine is effective as the medicine group had a lower blood pressure. The statement we made about the difference group is a hypothesis. How can we say this hypothesis true? How likely should we believe this hypothesis? Therefore, we need to use a systematic way to evaluate our hypotheses.\n",
    "\n",
    "Hypothesis testing involves the following procedures: \n",
    "Suppose we have a number of observations $X_1,X_2,X_3.,...,X_n$ from a distribution.\n",
    "* We construct a null hypothesis $H_0$ about the underlying distribution.\n",
    "* We compute a test statsitic T. Assuming that $H_0$ is true, T is a function of the observations X for which we can evalute the distribution of T. \n",
    "* We give an alternative hypothesis $H_a$. Under the alternative hypothesis, the distribution of T will be significantly different than under $H_0$.\n",
    "* We choose a signficance level $\\alpha$ (usually 5%). Based on $H_a$, we define a set of values of T as the critical region in which with at most probability $\\alpha$ we would be able to observe if $H_0$ is true.\n",
    "* We obtained the empirical t and evaluate whether t falls under the critical region. If t is in the critical region we will reject the null hypothesis. We will also obtain a p-value. A p-value is the probability that the observations can be obtained if the null hypothesis is true. P-value is also the minimal $\\alpha$ value which we can reject the null hypothesis.\n",
    "\n",
    "The graph below illustrates the idea of p-values. The two hypotheses are plotted as normal distributions. The empirical t is calculated based on $H_a$. However p-value is obtained with $H_0$. We evaluate the probability of getting t under $H_0$. In the graph, this is the region right of the green line under the blue curve ($H_0$) \n",
    "\n",
    "Hypothesis testing involves parametric and non-parametric testing. Parametric testing makes hypothesis about a population parameter such as the mean. Non-parametric testing does not make hypothesis about the population parameter.\n",
    "\n",
    "The most commonly used parametric tests is the t test. The T statistics can be calcualted as follows:\n",
    "\n",
    "For comparison against a population mean: $t = \\frac{\\bar{X} - \\mu}{S/\\sqrt{n}}$ whereas $\\bar{X}, S,n$ refers to the sample mean, sample variance and the sample size. \n",
    "For comparison between two means: $t = \\frac{\\bar{X_1} - \\bar{X_2}}{\\sqrt{{s_1}^2/n_1 + {s_2}^2/n_2}}$ whereas $\\bar{X_1}, \\bar{X_2},s_1,s_2,n_1,n_2$ refers to the two sample means, two sample variances and the two sample sizes. \n",
    "\n",
    "When we use t test, the test statsitic follows a t distribution which is conditioned on the degrees of freedom. The larger the sample size, the close the t distribution approches a normal distribution. "
   ]
  },
  {
   "cell_type": "markdown",
   "metadata": {},
   "source": [
    "![](my_icons/hypothesis.svg)"
   ]
  },
  {
   "cell_type": "markdown",
   "metadata": {},
   "source": [
    "## A toy example\n",
    "> Understand hypothesis testing in a toy example"
   ]
  },
  {
   "cell_type": "markdown",
   "metadata": {},
   "source": [
    "In this example, we explore the idea of hypothesis testing with a toy example. Let's continue the idea of the blood pressure example. Suppose that for the group with medication the blood pressure is 138 140 141 138 133 138. The placebo group without medication has blood pressure 144 134 145 154 139 149. Just looking at the data, we cannot make a conclusion whether the medication is effective.\n",
    "* First, let's construct the $H_0$,$H_a$,$T$,$\\alpha$. The null hypothesis that the group mean is not different $\\mu_1=\\mu_2$. The alternative hypothesis is $\\mu_1 \\neq \\mu_2$. We calculate T with the two group formula above. We define $\\alpha$ to be 0.05. \n",
    "* Second, we compute the empirical t with the data\n",
    "* Third, we acquire the p-value with the current degree of freedom.\n",
    "* Finally, we make a conclusion about the dataset.\n",
    "\n",
    "After the calculation, we obtained a pvalue of 0.045. This falls with the critical range we defined. Therefore we reject the hypothesis that the means of the two groups are the same and can conclude the medicine is effective. \n",
    "Expand the code below to see how this is done. "
   ]
  },
  {
   "cell_type": "code",
   "execution_count": 47,
   "metadata": {},
   "outputs": [],
   "source": [
    "#collapse-hide\n",
    "using Statistics\n",
    "patient = [138,140,141,138,133,138];\n",
    "placebo = [144,134,145,154,139,149];\n",
    "m₁, m₂ = mean(patient), mean(placebo);\n",
    "s₁, s₂ = std(patient), std(placebo);\n",
    "n₁, n₂ = length(patient), length(placebo);"
   ]
  },
  {
   "cell_type": "code",
   "execution_count": 48,
   "metadata": {},
   "outputs": [],
   "source": [
    "#collapse-hide\n",
    "a = s₁^2/n₁;\n",
    "b = s₂^2/n₂;\n",
    "ν = (a + b)^2 / (a^2/(n₁-1) + b^2/(n₂-1));\n",
    "t = (m₁ - m₂)/sqrt(a+b);\n",
    "1-ccdf(TDist(ν), t);"
   ]
  },
  {
   "cell_type": "markdown",
   "metadata": {},
   "source": [
    "## A real world example\n",
    "> Understand hypothesis testing with Covid-19 treatment Remdesivir\n",
    "\n",
    "A new medicine has been developed with the aim to treat Covid-19 which is called Remdesivir. A number of results have been released to evalute the effects of Remdesivir on Covid-19 patients. Hypothesis testing is widely used when we interpretting the results. The following data is from the announcement of the Remdesivir [clinical trials](https://www.covid19treatmentguidelines.nih.gov/antiviral-therapy/remdesivir/clinical-data--remdesivir/)"
   ]
  },
  {
   "cell_type": "markdown",
   "metadata": {},
   "source": [
    "Let's take a look one of the results of the clinical trials. Covid19 patients received either placebo for 10 days or intravenous (IV) remdesivir at a dose of 200 mg on Day 1 and then 100 mg daily for up to 9 more days. The study examined 1,062 participants. One of the results looked at the time to recovery compared to placebo. The median time to recovery was 10 days for Remdesivir group whereas the median time to recover was 15 days. They reported a p value less than 0.001. Based on the hypothesis testing knowledge we discussed above, we can say based on the testing results, we can reject the null hypohtesis that the placebo and the medicine group has the same median recovery time. The likelihood of getting these observations under the null hypothesis is less than 0.001. This is a very low p value. We can preliminarily conclude the medicine reduces recovery time. \n",
    "\n",
    "Let's look at another example with the same medicine in a different patient sample. This study evaluated patients with severe COVID-19 in China. Patients were randomized 2:1 to receive IV remdesivir (200 mg on Day 1, followed by 100 mg daily) or normal saline placebo for 10 days. 237 patients were randomized to receive remdesivir (n = 158) or placebo (n = 79). However, they found no difference in the time to clinical improvement, 21 days to 23 days. Numerically, these days look different, but statistically we cannot say there is a significant difference between the groups. "
   ]
  },
  {
   "cell_type": "markdown",
   "metadata": {},
   "source": [
    "If you are interested in the study, feel free to read the whole report with the idea of hypothesis testing in mind. "
   ]
  },
  {
   "cell_type": "markdown",
   "metadata": {},
   "source": [
    "We need to keep one thing in mind, interpreting hypothesis testing is always tricky. See the next posts about the discussion of hypothesis testing."
   ]
  },
  {
   "cell_type": "code",
   "execution_count": null,
   "metadata": {},
   "outputs": [],
   "source": []
  }
 ],
 "metadata": {
  "kernelspec": {
   "display_name": "Julia 1.5.1",
   "language": "julia",
   "name": "julia-1.5"
  },
  "language_info": {
   "file_extension": ".jl",
   "mimetype": "application/julia",
   "name": "julia",
   "version": "1.5.1"
  }
 },
 "nbformat": 4,
 "nbformat_minor": 4
}
